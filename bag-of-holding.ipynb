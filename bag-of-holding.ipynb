{
 "cells": [
  {
   "cell_type": "markdown",
   "metadata": {},
   "source": [
    "# bag of holding (aka. making neural networks smaller)"
   ]
  },
  {
   "cell_type": "markdown",
   "metadata": {},
   "source": [
    "## setup"
   ]
  },
  {
   "cell_type": "code",
   "execution_count": 76,
   "metadata": {},
   "outputs": [],
   "source": [
    "import torch as t\n",
    "import torch.nn as nn\n",
    "import torch.optim as optim\n",
    "import torch.nn.functional as F\n",
    "from torch.utils.data import DataLoader\n",
    "from torchvision import datasets, transforms\n",
    "import matplotlib.pyplot as plt\n",
    "import wandb\n",
    "from tqdm import tqdm\n",
    "from datetime import datetime\n",
    "\n",
    "device = 'cuda' if t.cuda.is_available() else 'cpu'"
   ]
  },
  {
   "cell_type": "code",
   "execution_count": 58,
   "metadata": {},
   "outputs": [],
   "source": [
    "batch_size = 640\n",
    "\n",
    "train_dataset = datasets.MNIST(root='./data', train=True, download=True, transform=transforms.ToTensor())\n",
    "test_dataset = datasets.MNIST(root='./data', train=False, download=True, transform=transforms.ToTensor())\n",
    "train_loader = DataLoader(dataset=train_dataset, batch_size=batch_size, shuffle=True)\n",
    "test_loader = DataLoader(dataset=test_dataset, batch_size=batch_size, shuffle=False)"
   ]
  },
  {
   "cell_type": "code",
   "execution_count": 25,
   "metadata": {},
   "outputs": [],
   "source": [
    "def imshow(img):\n",
    "    if img.shape[0] == 1: img = img.permute(1, 2, 0)\n",
    "    plt.imshow(img)\n",
    "    plt.axis('off')\n",
    "    plt.show()"
   ]
  },
  {
   "cell_type": "code",
   "execution_count": 26,
   "metadata": {},
   "outputs": [
    {
     "data": {
      "image/png": "[encoded data removed]",
      "text/plain": [
       "<Figure size 640x480 with 1 Axes>"
      ]
     },
     "metadata": {},
     "output_type": "display_data"
    }
   ],
   "source": [
    "imshow(train_dataset[0][0])"
   ]
  },
  {
   "cell_type": "code",
   "execution_count": 77,
   "metadata": {},
   "outputs": [],
   "source": [
    "class Mnist(nn.Module):\n",
    "    def __init__(self):\n",
    "        super().__init__()\n",
    "        self.mlp = nn.Sequential(\n",
    "            nn.Linear(784, 128),\n",
    "            nn.LeakyReLU(),\n",
    "            nn.Linear(128, 64),\n",
    "            nn.LeakyReLU(),\n",
    "            nn.Linear(64, 10),\n",
    "            # nn.Linear(784, 32),\n",
    "            # nn.LeakyReLU(),\n",
    "            # nn.Linear(32, 32),\n",
    "            # nn.LeakyReLU(),\n",
    "            # nn.Linear(32, 10),\n",
    "        )\n",
    "\n",
    "    def forward(self, x):\n",
    "        return self.mlp(x.flatten(start_dim=-3))"
   ]
  },
  {
   "cell_type": "code",
   "execution_count": 78,
   "metadata": {},
   "outputs": [],
   "source": [
    "@t.no_grad()\n",
    "def eval(model, dataloader=test_loader):\n",
    "    model.eval()\n",
    "    loss, accuracy, count = 0, 0, 0\n",
    "    for x, y in dataloader:\n",
    "        logits = model(x.to(device))\n",
    "        loss += F.cross_entropy(logits, y.to(device)).item()\n",
    "        accuracy += (logits.argmax(1) == y.to(device)).sum().item()\n",
    "        count += len(x)\n",
    "    model.train()\n",
    "    return loss / count, accuracy / count\n",
    "\n",
    "def eval_dict(model, dataloader=test_loader, name='test'):\n",
    "    loss, accuracy = eval(model, dataloader=dataloader)\n",
    "    return {f'{name}_loss': loss, f'{name}_accuracy': accuracy}\n",
    "\n",
    "# eval_dict(mnist)"
   ]
  },
  {
   "cell_type": "code",
   "execution_count": 79,
   "metadata": {},
   "outputs": [],
   "source": [
    "def train(model, opt, dataloader=train_loader, wnb=True, epochs=1000):\n",
    "    model.train()\n",
    "    if wnb: wandb.init()\n",
    "    for epoch in tqdm(range(epochs)):\n",
    "        for x, y in dataloader:\n",
    "            logits = model(x.to(device))\n",
    "            loss = F.cross_entropy(logits, y.to(device))\n",
    "            opt.zero_grad()\n",
    "            loss.backward()\n",
    "            opt.step()\n",
    "        if epoch % 10 == 0 or epoch == epochs - 1:\n",
    "            if wnb: wandb.log({'epoch': epoch} | eval_dict(model) | eval_dict(model, dataloader=train_loader, name='train'))\n",
    "    if wnb: wandb.finish()"
   ]
  },
  {
   "cell_type": "code",
   "execution_count": 80,
   "metadata": {},
   "outputs": [
    {
     "data": {
      "text/html": [
       "wandb version 0.17.6 is available!  To upgrade, please run:\n",
       " $ pip install wandb --upgrade"
      ],
      "text/plain": [
       "<IPython.core.display.HTML object>"
      ]
     },
     "metadata": {},
     "output_type": "display_data"
    },
    {
     "data": {
      "text/html": [
       "Tracking run with wandb version 0.16.4"
      ],
      "text/plain": [
       "<IPython.core.display.HTML object>"
      ]
     },
     "metadata": {},
     "output_type": "display_data"
    },
    {
     "data": {
      "text/html": [
       "Run data is saved locally in <code>/home/p/ml/bag-of-holding/wandb/run-20240810_221536-nwrc37tn</code>"
      ],
      "text/plain": [
       "<IPython.core.display.HTML object>"
      ]
     },
     "metadata": {},
     "output_type": "display_data"
    },
    {
     "data": {
      "text/html": [
       "Syncing run <strong><a href='https://wandb.ai/peluche/bag-of-holding/runs/nwrc37tn' target=\"_blank\">effortless-thunder-9</a></strong> to <a href='https://wandb.ai/peluche/bag-of-holding' target=\"_blank\">Weights & Biases</a> (<a href='https://wandb.me/run' target=\"_blank\">docs</a>)<br/>"
      ],
      "text/plain": [
       "<IPython.core.display.HTML object>"
      ]
     },
     "metadata": {},
     "output_type": "display_data"
    },
    {
     "data": {
      "text/html": [
       " View project at <a href='https://wandb.ai/peluche/bag-of-holding' target=\"_blank\">https://wandb.ai/peluche/bag-of-holding</a>"
      ],
      "text/plain": [
       "<IPython.core.display.HTML object>"
      ]
     },
     "metadata": {},
     "output_type": "display_data"
    },
    {
     "data": {
      "text/html": [
       " View run at <a href='https://wandb.ai/peluche/bag-of-holding/runs/nwrc37tn' target=\"_blank\">https://wandb.ai/peluche/bag-of-holding/runs/nwrc37tn</a>"
      ],
      "text/plain": [
       "<IPython.core.display.HTML object>"
      ]
     },
     "metadata": {},
     "output_type": "display_data"
    },
    {
     "name": "stderr",
     "output_type": "stream",
     "text": [
      "100%|██████████| 100/100 [08:07<00:00,  4.88s/it]\n",
      "wandb: WARNING Source type is set to 'repo' but some required information is missing from the environment. A job will not be created from this run. See https://docs.wandb.ai/guides/launch/create-job\n"
     ]
    },
    {
     "data": {
      "application/vnd.jupyter.widget-view+json": {
       "model_id": "e823529d75bb48d8a08a53f93a72e502",
       "version_major": 2,
       "version_minor": 0
      },
      "text/plain": [
       "VBox(children=(Label(value='0.002 MB of 0.009 MB uploaded\\r'), FloatProgress(value=0.2614125753660637, max=1.0…"
      ]
     },
     "metadata": {},
     "output_type": "display_data"
    },
    {
     "data": {
      "text/html": [
       "<style>\n",
       "    table.wandb td:nth-child(1) { padding: 0 10px; text-align: left ; width: auto;} td:nth-child(2) {text-align: left ; width: 100%}\n",
       "    .wandb-row { display: flex; flex-direction: row; flex-wrap: wrap; justify-content: flex-start; width: 100% }\n",
       "    .wandb-col { display: flex; flex-direction: column; flex-basis: 100%; flex: 1; padding: 10px; }\n",
       "    </style>\n",
       "<div class=\"wandb-row\"><div class=\"wandb-col\"><h3>Run history:</h3><br/><table class=\"wandb\"><tr><td>epoch</td><td>▁▂▂▃▄▅▅▆▇▇█</td></tr><tr><td>test_accuracy</td><td>▁▆▇████████</td></tr><tr><td>test_loss</td><td>█▂▁▁▁▁▁▁▁▁▁</td></tr><tr><td>train_accuracy</td><td>▁▆▇▇▇██████</td></tr><tr><td>train_loss</td><td>█▃▂▂▁▁▁▁▁▁▁</td></tr></table><br/></div><div class=\"wandb-col\"><h3>Run summary:</h3><br/><table class=\"wandb\"><tr><td>epoch</td><td>99</td></tr><tr><td>test_accuracy</td><td>0.9792</td></tr><tr><td>test_loss</td><td>0.00016</td></tr><tr><td>train_accuracy</td><td>0.99992</td></tr><tr><td>train_loss</td><td>0.0</td></tr></table><br/></div></div>"
      ],
      "text/plain": [
       "<IPython.core.display.HTML object>"
      ]
     },
     "metadata": {},
     "output_type": "display_data"
    },
    {
     "data": {
      "text/html": [
       " View run <strong style=\"color:#cdcd00\">effortless-thunder-9</strong> at: <a href='https://wandb.ai/peluche/bag-of-holding/runs/nwrc37tn' target=\"_blank\">https://wandb.ai/peluche/bag-of-holding/runs/nwrc37tn</a><br/>Synced 5 W&B file(s), 0 media file(s), 0 artifact file(s) and 0 other file(s)"
      ],
      "text/plain": [
       "<IPython.core.display.HTML object>"
      ]
     },
     "metadata": {},
     "output_type": "display_data"
    },
    {
     "data": {
      "text/html": [
       "Find logs at: <code>./wandb/run-20240810_221536-nwrc37tn/logs</code>"
      ],
      "text/plain": [
       "<IPython.core.display.HTML object>"
      ]
     },
     "metadata": {},
     "output_type": "display_data"
    }
   ],
   "source": [
    "mnist = Mnist().to(device)\n",
    "opt = optim.AdamW(mnist.parameters(), lr=3e-4)\n",
    "train(mnist, opt, epochs=100)"
   ]
  },
  {
   "cell_type": "code",
   "execution_count": 82,
   "metadata": {},
   "outputs": [],
   "source": [
    "t.save(mnist.state_dict(), f'weights/mnist-128-64-10_{datetime.now().strftime(\"%Y-%m-%d_%Hh%M\")}.pt')"
   ]
  },
  {
   "cell_type": "markdown",
   "metadata": {},
   "source": [
    "## quantization"
   ]
  },
  {
   "cell_type": "code",
   "execution_count": 259,
   "metadata": {},
   "outputs": [],
   "source": [
    "def quantize(weights, bits=8):\n",
    "    maxi = weights.max()\n",
    "    mini = weights.min()\n",
    "    qmaxi = 2 ** bits - 1\n",
    "    scale = (maxi - mini) / qmaxi\n",
    "    zero = int(t.round(-mini / scale))\n",
    "    quantized_weights = t.clamp(t.round(weights / scale) + zero, 0, qmaxi)\n",
    "    return quantized_weights, scale, zero\n",
    "\n",
    "def unquantize(quantized_weights, scale, zero):\n",
    "    return (quantized_weights - zero) * scale"
   ]
  },
  {
   "cell_type": "code",
   "execution_count": 260,
   "metadata": {},
   "outputs": [],
   "source": [
    "def test_bounds(weights, bits=8):\n",
    "    qw, _, _ = quantize(weights, bits=bits)\n",
    "    assert qw.min() == 0\n",
    "    assert qw.max() == 2**bits - 1\n",
    "\n",
    "def test_round_trip(weights, bits=8, threshold=0.02):\n",
    "    ''' this is flaky at best '''\n",
    "    qw, scale, zero = quantize(weights, bits=bits)\n",
    "    w = unquantize(qw, scale, zero)\n",
    "    assert weights.allclose(w, atol=threshold), f'{(weights - w).abs().max()=}'\n",
    "\n",
    "def test_more_bits_do_better(weights):\n",
    "    ''' flaky too '''\n",
    "    def encode_decode_max_abs_error(bits):\n",
    "        qw, scale, zero = quantize(weights, bits=bits)\n",
    "        w = unquantize(qw, scale, zero)\n",
    "        return (weights - w).abs().max()\n",
    "    error1 = encode_decode_max_abs_error(bits=4)\n",
    "    error2 = encode_decode_max_abs_error(bits=8)\n",
    "    error3 = encode_decode_max_abs_error(bits=16)\n",
    "    assert error1 > error2 > error3, f'{error1=}, {error2=}, {error3=}'\n",
    "\n",
    "for _ in range(100):\n",
    "    xs = t.randn(100, 100)\n",
    "    test_bounds(xs)\n",
    "    test_round_trip(xs)\n",
    "    test_more_bits_do_better(xs)"
   ]
  },
  {
   "cell_type": "code",
   "execution_count": 261,
   "metadata": {},
   "outputs": [
    {
     "name": "stdout",
     "output_type": "stream",
     "text": [
      "mean: 0.49599745869636536 0.4960039556026459\n",
      "max: 0.9999246001243591 0.9997732639312744\n",
      "min: 0.0001513957977294922 0.0\n",
      "atol: 0.001960158348083496\n"
     ]
    }
   ],
   "source": [
    "def quantization_stats(weights):\n",
    "    qw, scale, zero = quantize(weights, bits=8)\n",
    "    w = unquantize(qw, scale, zero)\n",
    "    print(f'mean: {weights.mean()} {w.mean()}')\n",
    "    print(f'max: {weights.max()} {w.max()}')\n",
    "    print(f'min: {weights.min()} {w.min()}')\n",
    "    print(f'atol: {(weights - w).abs().max()}')\n",
    "\n",
    "xs = t.rand(10000)\n",
    "quantization_stats(xs)"
   ]
  }
 ],
 "metadata": {
  "kernelspec": {
   "display_name": "Python 3",
   "language": "python",
   "name": "python3"
  },
  "language_info": {
   "codemirror_mode": {
    "name": "ipython",
    "version": 3
   },
   "file_extension": ".py",
   "mimetype": "text/x-python",
   "name": "python",
   "nbconvert_exporter": "python",
   "pygments_lexer": "ipython3",
   "version": "3.10.12"
  }
 },
 "nbformat": 4,
 "nbformat_minor": 2
}
